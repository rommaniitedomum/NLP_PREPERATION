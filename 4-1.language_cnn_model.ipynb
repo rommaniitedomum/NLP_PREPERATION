{
 "cells": [
  {
   "cell_type": "markdown",
   "metadata": {},
   "source": [
    "# CNN(Convolutional Neural Network) 모델\n",
    "- CNN은 합성곱 신경망으로 불리며, 컴퓨터 비전 분야에서 사용되는 대표적인 딥러닝 모델이다.\n",
    "- 특히 자율 주행 자동차 및 안면인식 등 이미지를 판별해야 하는 분야에서 많이 사용된다.\n",
    "# 합성곱과 풀링\n",
    "- 합성곱 연산은 필터로 불리는 특정 크기의 행렬을 이미지 데이터나 문장 데이터 행렬에 슬라이싱 하면서 곱하고 더하는 연산을 의미한다.\n",
    "- 여기서 합성곱 필터는 경우에 따라 마스크, 윈도우, 커널 등 다양하게 불린다.\n"
   ]
  },
  {
   "cell_type": "markdown",
   "metadata": {},
   "source": [
    "## 풀링 ##\n",
    "\n",
    "\n",
    "- 풀링 연산이란 합성곱 연산 결과로 나온 특징 맵의 크기를 줄이거나 주요한 특징을 추출하기 위해 사용하는 연산이다.\n",
    "- 풀링 연산에는 최대 풀링과 평균 풀링 연산이 있다.\n",
    "- 주로 최대 풀링 연산을 사용한다.\n",
    "- 풀링 연산에는 필터보다는 윈도우라는 용어를 많이 사용하고, 스트라이드, 패딩 개념이 동일하게 적용된다.\n",
    "\n",
    "![fooling.png](data:image/png;base64,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)\n"
   ]
  },
  {
   "cell_type": "markdown",
   "metadata": {},
   "source": [
    "## 챗봇 문답 감정 분류 모델 ##\n",
    "\n",
    "\n",
    "- CNN의 경우 이미지 분류 외에 임베딩 품질만 괜찮다면 자연어 분류에도 좋은 성능을 보인다.\n",
    "- 컴퓨터 입장에서는 이미지든 임베딩 처리된 자연어든 벡터로 표현 가능한 대상이면 특징을 뽑아내도록 학습할 수 있다.\n"
   ]
  },
  {
   "cell_type": "code",
   "execution_count": 22,
   "metadata": {},
   "outputs": [],
   "source": [
    "# 모듈 임포트 \n",
    "import pandas as pd\n",
    "import tensorflow as tf\n",
    "from tensorflow.keras import preprocessing\n",
    "from tensorflow.keras.models import Model \n",
    "from tensorflow.keras.layers import (\n",
    "    Input,\n",
    "    Embedding,\n",
    "    Dense,\n",
    "    Dropout,\n",
    "    Conv1D,\n",
    "    GlobalMaxPool1D,\n",
    "    concatenate,\n",
    ")\n",
    "\n",
    "# Input\n",
    "# 역할: 모델의 입력 데이터를 정의하는 레이어.\n",
    "# 사용 방법: 입력 데이터의 형태를 지정.\n",
    "\n",
    "\n",
    "# Embedding\n",
    "# 역할: 정수로 인코딩된 단어를 밀집된 벡터 표현(embedding vector)으로 변환.\n",
    "# 용도: 주로 자연어 처리(NLP) 모델에서 단어를 표현하는 데 사용.\n",
    "\n",
    "\n",
    "# Dense\n",
    "# 역할: 완전 연결(fully connected) 레이어로, 입력 데이터를 가중치와 편향을 통해 변환.\n",
    "# 용도: 모델의 출력층 또는 은닉층으로 사용.\n",
    "\n",
    "\n",
    "# Dropout\n",
    "# 역할: 과적합(overfitting)을 방지하기 위해 특정 비율의 노드를 랜덤하게 비활성화.\n",
    "# 용도: 모델의 일반화 성능을 높이기 위해 사용\n",
    "\n",
    "\n",
    "# Conv1D\n",
    "# 역할: 1차원 데이터를 처리하는 합성곱(convolution) 레이어.\n",
    "# 용도: 텍스트, 시계열 데이터와 같은 1D 데이터를 처리하는 데 사용.\n",
    "\n",
    "\n",
    "# GlobalMaxPool1D\n",
    "# 역할: 1D 텐서에서 가장 큰 값(max value)을 선택하여 데이터 차원을 축소.\n",
    "# 용도: 시계열 데이터 또는 텍스트 처리에서 중요한 특징만 추출하는 데 사용.\n",
    "\n",
    "\n",
    "# concatenate\n",
    "# 역할: 여러 레이어의 출력을 결합(병합).\n",
    "# 용도: 병렬 네트워크나 멀티-인풋 모델에서 사용\n"
   ]
  },
  {
   "cell_type": "code",
   "execution_count": 23,
   "metadata": {},
   "outputs": [
    {
     "data": {
      "text/html": [
       "<div>\n",
       "<style scoped>\n",
       "    .dataframe tbody tr th:only-of-type {\n",
       "        vertical-align: middle;\n",
       "    }\n",
       "\n",
       "    .dataframe tbody tr th {\n",
       "        vertical-align: top;\n",
       "    }\n",
       "\n",
       "    .dataframe thead th {\n",
       "        text-align: right;\n",
       "    }\n",
       "</style>\n",
       "<table border=\"1\" class=\"dataframe\">\n",
       "  <thead>\n",
       "    <tr style=\"text-align: right;\">\n",
       "      <th></th>\n",
       "      <th>Q</th>\n",
       "      <th>A</th>\n",
       "      <th>label</th>\n",
       "    </tr>\n",
       "  </thead>\n",
       "  <tbody>\n",
       "    <tr>\n",
       "      <th>0</th>\n",
       "      <td>12시 땡!</td>\n",
       "      <td>하루가 또 가네요.</td>\n",
       "      <td>0</td>\n",
       "    </tr>\n",
       "    <tr>\n",
       "      <th>1</th>\n",
       "      <td>1지망 학교 떨어졌어</td>\n",
       "      <td>위로해 드립니다.</td>\n",
       "      <td>0</td>\n",
       "    </tr>\n",
       "    <tr>\n",
       "      <th>2</th>\n",
       "      <td>3박4일 놀러가고 싶다</td>\n",
       "      <td>여행은 언제나 좋죠.</td>\n",
       "      <td>0</td>\n",
       "    </tr>\n",
       "    <tr>\n",
       "      <th>3</th>\n",
       "      <td>3박4일 정도 놀러가고 싶다</td>\n",
       "      <td>여행은 언제나 좋죠.</td>\n",
       "      <td>0</td>\n",
       "    </tr>\n",
       "    <tr>\n",
       "      <th>4</th>\n",
       "      <td>PPL 심하네</td>\n",
       "      <td>눈살이 찌푸려지죠.</td>\n",
       "      <td>0</td>\n",
       "    </tr>\n",
       "  </tbody>\n",
       "</table>\n",
       "</div>"
      ],
      "text/plain": [
       "                 Q            A  label\n",
       "0           12시 땡!   하루가 또 가네요.      0\n",
       "1      1지망 학교 떨어졌어    위로해 드립니다.      0\n",
       "2     3박4일 놀러가고 싶다  여행은 언제나 좋죠.      0\n",
       "3  3박4일 정도 놀러가고 싶다  여행은 언제나 좋죠.      0\n",
       "4          PPL 심하네   눈살이 찌푸려지죠.      0"
      ]
     },
     "execution_count": 23,
     "metadata": {},
     "output_type": "execute_result"
    }
   ],
   "source": [
    "# 데이터 로드 \n",
    "train_file = 'chatbot_data.csv'\n",
    "\n",
    "data = pd.read_csv(train_file, delimiter= ',')\n",
    "\n",
    "data.head()"
   ]
  },
  {
   "cell_type": "code",
   "execution_count": 25,
   "metadata": {},
   "outputs": [
    {
     "name": "stdout",
     "output_type": "stream",
     "text": [
      "1지망 학교 떨어졌어 0\n"
     ]
    }
   ],
   "source": [
    "# 질문과 감정을 리스트 형태로 반환 \n",
    "features = data['Q'].tolist()\n",
    "labels = data['label'].tolist()\n",
    "\n",
    "print(features[1], labels[1])"
   ]
  },
  {
   "cell_type": "code",
   "execution_count": 27,
   "metadata": {},
   "outputs": [
    {
     "name": "stdout",
     "output_type": "stream",
     "text": [
      "{'deep': 1, 'learning': 2, 'i': 3, 'love': 4, 'is': 5, 'amazing': 6, 'wow': 7, 'si': 8, 'gong': 9, 'zoa': 10}\n"
     ]
    }
   ],
   "source": [
    "# 토크나이저 예시\n",
    "\n",
    "from tensorflow.keras.preprocessing.text import  Tokenizer\n",
    "\n",
    "# 데이터 \n",
    "texts = [\" I love deep learning\", \" Deep learning is amazing wow\", \" si gong zoa\"]\n",
    "\n",
    "# 토크나이저 초기화 \n",
    "tokenizer = Tokenizer(num_words=10) # 최대 단어 개수를 10개로 제한 \n",
    "tokenizer.fit_on_texts(texts)\n",
    "\n",
    "# 결과확인 \n",
    "print(tokenizer.word_index)\n",
    "\n",
    "# 가장 많이 등장한 단어가 앞 인덱스로 할당 "
   ]
  },
  {
   "cell_type": "code",
   "execution_count": 29,
   "metadata": {},
   "outputs": [],
   "source": [
    "# 단어 인덱스 시퀀스 벡터\n",
    "\n",
    "\n",
    "# 질문 리스트(features)에서 문장을 하나씩 꺼내와 text_to_word_seqence() 함수를 이용해 단어 시퀀스를 만든다.\n",
    "# 단어 시퀀스란 단어 토큰들의 순차적 리스트를 말한다.\n",
    "# 예를 들어 '3박4일 놀러가고 싶다' 문장의 단어 시퀀스는\n",
    "# ['3박4일', '놀러가고', '싶다']가 된다.\n",
    "# 이렇게 생성된 시퀀스를 말뭉치(corpus) 리스트에 저장한다.\n",
    "corpus = [preprocessing.text.text_to_word_sequence(text) for text in features]\n",
    "\n",
    "# 토크아니징\n",
    "tokenizer = preprocessing.text.Tokenizer()\n",
    "tokenizer.fit_on_texts(corpus)\n",
    "sequences = tokenizer.texts_to_sequences(corpus)\n",
    "word_index = tokenizer.word_index"
   ]
  },
  {
   "cell_type": "markdown",
   "metadata": {},
   "source": [
    "대충 제로 패딩 하는 이미지 \n"
   ]
  },
  {
   "cell_type": "code",
   "execution_count": 32,
   "metadata": {},
   "outputs": [],
   "source": [
    "# 시퀀스 번호로 만든 벡터는 문제가 있다.\n",
    "# 문장의 길이가 제각각이기 때문에 벡터 크기가 다 다르다.\n",
    "# 하지만 CNN 모델의 입력 계층은 고정된 개수의 입력 노드를 가지고 있다.\n",
    "# 따라서 시퀀스 번호로 변환된 전체 벡터 크기를 동일하게 맞춰야 한다.\n",
    "# 여기서 사용할 수 있는 클래스가 MAX_SEQ_LEN이다.\n",
    "# MAX_SEQ_LEN 크기보다 작은 벡터에는 남는 공간이 생기는데 이를 0으로 채우는 작업을 한다.\n",
    "# 이를 패딩 처리라 하고, 케라스에서는 pad_sequences() 함수를 이용한다.\n",
    "\n",
    "# maxlen 파라미터로 시퀀스의 최대 길이를 정한다.\n",
    "# 학습 시킬 문장 데이터들을 사전에 분석해 최대 몇 개의 단어 토큰으로 구성되어 있는지 파악한다.\n",
    "# 너무 크게 잡으면 빈 공간이 많이 생겨 자원이 낭비되고, 작게 잡으면 입력 데이터가 손실된다.\n",
    "\n",
    "MAX_SEQ_LEN = 15\n",
    "\n",
    "padded_seqs = preprocessing.sequence.pad_sequences(\n",
    "    sequences, maxlen=MAX_SEQ_LEN, padding=\"post\"\n",
    ")\n"
   ]
  },
  {
   "cell_type": "code",
   "execution_count": 33,
   "metadata": {},
   "outputs": [],
   "source": [
    "# 패딩 처리된 시퀀스(padded_seqs) 벡터 리스트와 감정(labels) 리스트 전체를 데이터셋 객체로 만든다.\n",
    "# 이후 데이터를 랜덤으로 섞은 후 학습용, 검증용, 테스트용 데이터셋을 7:2:1로 나눈다\n",
    "\n",
    "ds = tf.data.Dataset.from_tensor_slices((padded_seqs, labels))\n",
    "ds = ds.shuffle(len(features))\n",
    "\n",
    "train_size = int(len(padded_seqs) * 0.7)\n",
    "val_size = int(len(padded_seqs) * 0.2)\n",
    "test_size = int(len(padded_seqs) * 0.1)\n",
    "\n",
    "train_ds = ds.take(train_size).batch(20)\n",
    "val_ds = ds.skip(train_size).take(val_size).batch(20)\n",
    "test_ds = ds.skip(train_size + val_size).take(test_size).batch(20)\n"
   ]
  },
  {
   "cell_type": "code",
   "execution_count": 36,
   "metadata": {},
   "outputs": [
    {
     "name": "stderr",
     "output_type": "stream",
     "text": [
      "C:\\Anaconda\\Lib\\site-packages\\keras\\src\\layers\\core\\embedding.py:90: UserWarning: Argument `input_length` is deprecated. Just remove it.\n",
      "  warnings.warn(\n"
     ]
    }
   ],
   "source": [
    "# 문장을 감정 클래스로 분류하는 CNN 모델은 전처리된 입력 데이터를 단어 임베딩 처리하는 영역과\n",
    "# 합성곱 필터와 연산을 통해 문장의 특징정보(특징맵)를 추출하는 영역,\n",
    "# 평탄화를 하는 영역, 그리고 완전연결 계층을 통해 감정별로 클래스를 분류하는 영역으로 구성\n",
    "# cnn_model_block.drawio 참조\n",
    "\n",
    "\n",
    "# 입력 계층은 케라스의 Input() 함수로 생성한다.\n",
    "# 이때 shape 인자로 입력 노드에 들어올 데이터의 형상을 지정한다.\n",
    "# 실제 패딩 처리된 시퀀스 벡터의 크기(MAX_SEQ_LEN)로 설정\n",
    "# 임베딩 계층을 만든다.\n",
    "# 단어별로 패딩 처리된 시퀀스 벡터는 희소 벡터다.\n",
    "# 임베딩 계층은 희소 벡터를 입력받아 데이터 손실을 최소화하면서 벡터 차원이 압축되는 밀집 벡터로 변환한다.\n",
    "# 단어 개수(VOCAB_SIZE)와 임베딩 결과로 나올 밀집 벡터 크기(EMB_SIZE), 입력되는 시퀀스 벡터 크기(MAX_SEQ_LEN)를\n",
    "# Embedding()의 인자로 사용해 임베딩 계층을 생성한다.\n",
    "# 단어 임베딩 부분의 마지막에는 50%의 확률로 Dropout을 생성한다.\n",
    "# 이를 통해 학습 과정에서 발생할 과적합을 대비한다.\n",
    "\n",
    "# 드랍아웃으로 과적합 방지 \n",
    "\n",
    "# 하이퍼 파라미터 설정 \n",
    "dropout_prob =0.5\n",
    "EMB_SIZE = 128\n",
    "EPOCH = 5\n",
    "VOCAB_SIZE = len(word_index) + 1 # 전체 단어 수 \n",
    "\n",
    "input_layer = Input(shape=(MAX_SEQ_LEN,))\n",
    "embedding_layer = Embedding(VOCAB_SIZE, EMB_SIZE, input_length=MAX_SEQ_LEN)(input_layer)\n",
    "dropout_emb = Dropout(rate=dropout_prob)(embedding_layer)"
   ]
  },
  {
   "cell_type": "code",
   "execution_count": 37,
   "metadata": {},
   "outputs": [],
   "source": [
    "# 임베딩 계층을 통해 전달된 임베딩 벡터에서 특징 추출을 담당하는 영역을 구현\n",
    "# Conv1D()를 이용해 크기가 3, 4, 5인 합성곱 필터를 128개씩 사용한 합성곱 계층을 3개 생성\n",
    "# 합성곱 연산 과정에 따라 필터 크기에 맞게 입력 데이터 위를 슬라이딩 하게 되는데,\n",
    "# 이는 3, 4, 5-gram 언어 모델의 개념과 유사\n",
    "# 임베딩 벡터를 합성곱 계층의 입력으로 받아 GlobalMaxPool1D()를 이용해 풀링 연산\n",
    "# 완전 연결 계층에 전달될 수 있도록 concatenate()를 이용해 병렬로 처리된 합성곱 계층의 특징맵 결과를 묶는다\n",
    "\n",
    "conv1 = Conv1D(filters=128, kernel_size=3, padding=\"valid\", activation=tf.nn.relu)(\n",
    "    dropout_emb\n",
    ")\n",
    "pool1 = GlobalMaxPool1D()(conv1)\n",
    "\n",
    "conv2 = Conv1D(filters=128, kernel_size=4, padding=\"valid\", activation=tf.nn.relu)(\n",
    "    dropout_emb\n",
    ")\n",
    "pool2 = GlobalMaxPool1D()(conv2)\n",
    "\n",
    "conv3 = Conv1D(filters=128, kernel_size=5, padding=\"valid\", activation=tf.nn.relu)(\n",
    "    dropout_emb\n",
    ")\n",
    "pool3 = GlobalMaxPool1D()(conv3)\n",
    "\n",
    "# 풀링층을 합친다 \n",
    "concat = concatenate([pool1, pool2, pool3])\n"
   ]
  },
  {
   "cell_type": "code",
   "execution_count": 38,
   "metadata": {},
   "outputs": [],
   "source": [
    "# 완전 연결 계층 구현\n",
    "# Dense()를 이용해 128개의 출력 노드를 가지고, relu 활성화 함수를 사용하는 계층 생성\n",
    "# Dense() 계층은 이전 계층에서 합성곱 연산과 맥스 풀링으로 나온 3개의 특징맵 데이터를 입력으로 받는다.\n",
    "# 로드한 데이터 문장에서 3가지 클래스로 감정을 분류해야 하기 때문에 출력 노드 3개를 생성한다.\n",
    "# 계층에서 결과로 나온 값(logits)을 점수라 부른다.\n",
    "# 여기서는 3개의 점수가 출력되는데, 가장 큰 점수를 가진 노드 위치가 CNN 모델이 예측한 결과가 된다\n",
    "\n",
    "hidden = Dense(128, activation=tf.nn.relu)(concat)\n",
    "dropout_hidden = Dropout(rate=dropout_prob)(hidden)\n",
    "logits = Dense(3, name='logits')(dropout_hidden)"
   ]
  },
  {
   "cell_type": "code",
   "execution_count": 39,
   "metadata": {},
   "outputs": [],
   "source": [
    "#logits에서 나온 점수를 소프트맥스 계층을 통해 감정 클래스별 확률 계산 \n",
    "predictions = Dense(3, activation=tf.nn.softmax)(logits)"
   ]
  },
  {
   "cell_type": "code",
   "execution_count": 40,
   "metadata": {},
   "outputs": [],
   "source": [
    "# 케라스 모델을 생성할 때 Model()을 사용하는데,\n",
    "# 인자로는 앞서 생성한 입력계층과 출력계층을 사용한다.\n",
    "# 모델 정의 후 실제 모델을 model.compile() 함수를 통해 CNN 모델을 컴파일 한다.\n",
    "# 최적화 방법에는 adam을, 손실 함수에는 sparse_categorical_crossentropy를 사용한다.\n",
    "# 모델을 평가할 때 정확도를 생성한다.\n",
    "\n",
    "model = Model(inputs=input_layer, outputs=predictions)\n",
    "model.compile(optimizer='adam', loss=\"sparse_categorical_crossentropy\",metrics=['accuracy'])"
   ]
  },
  {
   "cell_type": "code",
   "execution_count": 41,
   "metadata": {},
   "outputs": [
    {
     "name": "stdout",
     "output_type": "stream",
     "text": [
      "Epoch 1/5\n",
      "\u001b[1m414/414\u001b[0m \u001b[32m━━━━━━━━━━━━━━━━━━━━\u001b[0m\u001b[37m\u001b[0m \u001b[1m11s\u001b[0m 19ms/step - accuracy: 0.5063 - loss: 0.9724 - val_accuracy: 0.7944 - val_loss: 0.5614\n",
      "Epoch 2/5\n",
      "\u001b[1m414/414\u001b[0m \u001b[32m━━━━━━━━━━━━━━━━━━━━\u001b[0m\u001b[37m\u001b[0m \u001b[1m8s\u001b[0m 18ms/step - accuracy: 0.7842 - loss: 0.5427 - val_accuracy: 0.9065 - val_loss: 0.2827\n",
      "Epoch 3/5\n",
      "\u001b[1m414/414\u001b[0m \u001b[32m━━━━━━━━━━━━━━━━━━━━\u001b[0m\u001b[37m\u001b[0m \u001b[1m7s\u001b[0m 17ms/step - accuracy: 0.9015 - loss: 0.3014 - val_accuracy: 0.9535 - val_loss: 0.1618\n",
      "Epoch 4/5\n",
      "\u001b[1m414/414\u001b[0m \u001b[32m━━━━━━━━━━━━━━━━━━━━\u001b[0m\u001b[37m\u001b[0m \u001b[1m7s\u001b[0m 17ms/step - accuracy: 0.9417 - loss: 0.1824 - val_accuracy: 0.9695 - val_loss: 0.0980\n",
      "Epoch 5/5\n",
      "\u001b[1m414/414\u001b[0m \u001b[32m━━━━━━━━━━━━━━━━━━━━\u001b[0m\u001b[37m\u001b[0m \u001b[1m7s\u001b[0m 17ms/step - accuracy: 0.9637 - loss: 0.1148 - val_accuracy: 0.9810 - val_loss: 0.0627\n"
     ]
    },
    {
     "data": {
      "text/plain": [
       "<keras.src.callbacks.history.History at 0x1ecaff1af00>"
      ]
     },
     "execution_count": 41,
     "metadata": {},
     "output_type": "execute_result"
    }
   ],
   "source": [
    "# 모델 학습 \n",
    "# 인자로 학습용 데이터셋을 입력, validation_data로 검증용 데이터셋 입력 \n",
    "# 5회 반복 \n",
    "\n",
    "model.fit(train_ds, validation_data=val_ds, epochs=EPOCH, verbose=1)"
   ]
  },
  {
   "cell_type": "code",
   "execution_count": 42,
   "metadata": {},
   "outputs": [],
   "source": [
    "# 모델 파일 추출 \n",
    "model.save('cnn_model.keras')"
   ]
  },
  {
   "cell_type": "code",
   "execution_count": null,
   "metadata": {},
   "outputs": [
    {
     "name": "stdout",
     "output_type": "stream",
     "text": [
      "['12시 땡!', '1지망 학교 떨어졌어'] [0, 0]\n"
     ]
    }
   ],
   "source": [
    "from tensorflow.keras import preprocessing\n",
    "\n",
    "# 데이터 로드\n",
    "train_file = \"chatbot_data.csv\"\n",
    "\n",
    "data = pd.read_csv(train_file, delimiter=\",\")\n",
    "\n",
    "# data.head()\n",
    "\n",
    "\n",
    "# 질문과 감정을 리스트 형태로 반환\n",
    "features = data[\"Q\"].tolist()\n",
    "labels = data[\"label\"].tolist()\n",
    "\n",
    "print(features[:2], labels[:2])\n",
    "\n"
   ]
  },
  {
   "cell_type": "code",
   "execution_count": 45,
   "metadata": {},
   "outputs": [],
   "source": [
    "corpus = [preprocessing.text.text_to_word_sequence(text) for text in features]\n",
    "\n",
    "# 토크아니징\n",
    "tokenizer = preprocessing.text.Tokenizer()\n",
    "tokenizer.fit_on_texts(corpus)\n",
    "sequences = tokenizer.texts_to_sequences(corpus)\n",
    "\n",
    "padded_seqs = preprocessing.sequence.pad_sequences(\n",
    "    sequences, maxlen=MAX_SEQ_LEN, padding=\"post\"\n",
    ")"
   ]
  },
  {
   "cell_type": "code",
   "execution_count": 46,
   "metadata": {},
   "outputs": [],
   "source": [
    "# 데이터를 랜덤으로 섞은후에 테스트용 데이터셋 2000개를 뽑아서 20개씩 배치처리 \n",
    "ds = tf.data.Dataset.from_tensor_slices((padded_seqs, labels))\n",
    "ds = ds.shuffle(len(features))\n",
    "test_ds = ds.take(2000).batch(20)"
   ]
  },
  {
   "cell_type": "code",
   "execution_count": 47,
   "metadata": {},
   "outputs": [
    {
     "name": "stdout",
     "output_type": "stream",
     "text": [
      "\u001b[1m100/100\u001b[0m \u001b[32m━━━━━━━━━━━━━━━━━━━━\u001b[0m\u001b[37m\u001b[0m \u001b[1m0s\u001b[0m 4ms/step - accuracy: 0.9785 - loss: 0.0667\n"
     ]
    },
    {
     "data": {
      "text/plain": [
       "[0.06148364394903183, 0.9800000190734863]"
      ]
     },
     "execution_count": 47,
     "metadata": {},
     "output_type": "execute_result"
    }
   ],
   "source": [
    "# 모델 평가 \n",
    "model.evaluate(test_ds)"
   ]
  },
  {
   "cell_type": "code",
   "execution_count": 48,
   "metadata": {},
   "outputs": [
    {
     "name": "stdout",
     "output_type": "stream",
     "text": [
      "단어: ['썸', '타는', '여자가', '남사친', '만나러', '간다는데', '뭐라', '해']\n",
      "단어 인덱스: [   13    61   127  4320  1333 12162   856    31     0     0     0     0\n",
      "     0     0     0]\n",
      "문장 분류: 2\n"
     ]
    }
   ],
   "source": [
    "# 10212번쨰 문장을 샘플로 하고 실재값 출력 \n",
    "# 문장 분류가 라벨인 이유?\n",
    "print('단어:', corpus[10212])\n",
    "print('단어 인덱스:', padded_seqs[10212])\n",
    "print('문장 분류:', labels[10212])"
   ]
  },
  {
   "cell_type": "code",
   "execution_count": 52,
   "metadata": {},
   "outputs": [
    {
     "name": "stdout",
     "output_type": "stream",
     "text": [
      "\u001b[1m1/1\u001b[0m \u001b[32m━━━━━━━━━━━━━━━━━━━━\u001b[0m\u001b[37m\u001b[0m \u001b[1m0s\u001b[0m 148ms/step\n",
      "감정 예측 점수 [[1.9935182e-07 3.5464942e-07 9.9999940e-01]]\n",
      "감정 예측 클래스 [2]\n"
     ]
    }
   ],
   "source": [
    "picks = [10212]\n",
    "predict = model.predict(padded_seqs[picks])\n",
    "predicted_classes = tf.math.argmax(predict, axis=1)\n",
    "\n",
    "print('감정 예측 점수' , predict)\n",
    "print('감정 예측 클래스' ,predicted_classes.numpy())"
   ]
  },
  {
   "cell_type": "code",
   "execution_count": null,
   "metadata": {},
   "outputs": [],
   "source": []
  }
 ],
 "metadata": {
  "kernelspec": {
   "display_name": "Python 3 (ipykernel)",
   "language": "python",
   "name": "python3"
  },
  "language_info": {
   "codemirror_mode": {
    "name": "ipython",
    "version": 3
   },
   "file_extension": ".py",
   "mimetype": "text/x-python",
   "name": "python",
   "nbconvert_exporter": "python",
   "pygments_lexer": "ipython3",
   "version": "3.12.7"
  }
 },
 "nbformat": 4,
 "nbformat_minor": 2
}
